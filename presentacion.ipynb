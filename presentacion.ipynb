{
 "cells": [
  {
   "cell_type": "markdown",
   "metadata": {},
   "source": [
    "1. Organizar grupos de 3.\n",
    "2. Desarrollar una presentación en IA Presenter, con los dos últimos laboratorios que les envié y un análisis sobre este artículos\n",
    "\n",
    "(https://cybersecurityventures.com/ransomware-report-2021/)\n",
    "\n",
    "3. Subir la presentación a GitHub y enviarme el enlace."
   ]
  },
  {
   "cell_type": "markdown",
   "metadata": {},
   "source": [
    "Nombres:\n",
    "Jairo Rolando Acuña Lancheros \n",
    "Juan David Luna Suárez \n",
    "Edier Leonardo González Vera\n",
    "Carlos Alberto Romero"
   ]
  },
  {
   "cell_type": "markdown",
   "metadata": {},
   "source": []
  }
 ],
 "metadata": {
  "language_info": {
   "name": "python"
  },
  "orig_nbformat": 4
 },
 "nbformat": 4,
 "nbformat_minor": 2
}
